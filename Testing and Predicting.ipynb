{
 "cells": [
  {
   "cell_type": "code",
   "execution_count": null,
   "metadata": {},
   "outputs": [],
   "source": [
    "import tensorflow as tf\n",
    "import numpy as np\n",
    "from sklearn.metrics import mean_squared_error\n",
    "import joblib\n",
    "import matplotlib.pyplot as plt\n",
    "import seaborn as sns\n",
    "import pandas as pd"
   ]
  },
  {
   "cell_type": "markdown",
   "metadata": {},
   "source": [
    "#### Loading the Necessary Elements"
   ]
  },
  {
   "cell_type": "code",
   "execution_count": null,
   "metadata": {},
   "outputs": [],
   "source": [
    "df_clean = pd.DataFrame('./elements/df_clean.csv', parse_dates=['date'])\n"
   ]
  },
  {
   "cell_type": "code",
   "execution_count": null,
   "metadata": {},
   "outputs": [],
   "source": [
    "num_pipe = joblib.load('./elements/num_pipe.joblib')"
   ]
  },
  {
   "cell_type": "code",
   "execution_count": null,
   "metadata": {},
   "outputs": [],
   "source": [
    "data_dic = joblib.load('./elements/procssd.joblib')"
   ]
  },
  {
   "cell_type": "code",
   "execution_count": null,
   "metadata": {},
   "outputs": [],
   "source": [
    "tf.config.run_functions_eagerly(True)\n",
    "tf.data.experimental.enable_debug_mode()"
   ]
  },
  {
   "cell_type": "code",
   "execution_count": null,
   "metadata": {},
   "outputs": [],
   "source": [
    "model = tf.keras.models.load_model('./model/model.h5')"
   ]
  },
  {
   "cell_type": "code",
   "execution_count": null,
   "metadata": {},
   "outputs": [],
   "source": [
    "train_pred = model.predict(data_dic['train_seq'])"
   ]
  },
  {
   "cell_type": "code",
   "execution_count": null,
   "metadata": {},
   "outputs": [],
   "source": [
    "test_pred = model.predict(data_dic['test_seq'])"
   ]
  },
  {
   "cell_type": "code",
   "execution_count": null,
   "metadata": {},
   "outputs": [],
   "source": [
    "train_i_pred= num_pipe.inverse_transform(np.repeat(train_pred, 3, axis=1))"
   ]
  },
  {
   "cell_type": "markdown",
   "metadata": {},
   "source": [
    "### Testing the Model Performance"
   ]
  },
  {
   "cell_type": "code",
   "execution_count": null,
   "metadata": {},
   "outputs": [],
   "source": [
    "train_rmse = np.sqrt(mean_squared_error(data_dic['train_label'], train_i_pred[:, -1].reshape(-1, 1)))"
   ]
  },
  {
   "cell_type": "code",
   "execution_count": null,
   "metadata": {},
   "outputs": [],
   "source": [
    "test_i_pred= num_pipe.inverse_transform(np.repeat(test_pred, 3, axis=1))"
   ]
  },
  {
   "cell_type": "code",
   "execution_count": null,
   "metadata": {},
   "outputs": [],
   "source": [
    "test_rmse = np.sqrt(mean_squared_error(data_dic['test_label'], test_i_pred[:, -1].reshape(-1, 1)))"
   ]
  },
  {
   "cell_type": "code",
   "execution_count": null,
   "metadata": {},
   "outputs": [],
   "source": [
    "rmse_vals = pd.DataFrame({'Train RMSE': train_rmse, 'Test RMSE': test_rmse}, index=['RMSE']).T.rename(columns={0:'RMSE'})"
   ]
  },
  {
   "cell_type": "code",
   "execution_count": null,
   "metadata": {},
   "outputs": [],
   "source": [
    "plt.figure(figsize=(4, 12))\n",
    "sns.set_theme(style=\"whitegrid\")\n",
    "ax = sns.barplot(data=rmse_vals, x=rmse_vals.index, y='RMSE')\n",
    "plt.title('RMSE for Test and Train Data')\n",
    "plt.ylim(top=15)\n",
    "for p in ax.patches:\n",
    "    # get the height of each bar\n",
    "    height = p.get_height()\n",
    "    # adding text to each bar\n",
    "    ax.text(x=p.get_x()+(p.get_width()/2),  # x-coordinate position of data label, padded to be in the middle of the bar\n",
    "            y=height+0.2,  # y-coordinate position of data label, padded 100 above bar\n",
    "            # data label, formatted to have 4 decimals\n",
    "            s='{: .2f}'.format(height),\n",
    "            ha='center')  # sets horizontal alignment (ha) to center\n",
    "plt.savefig('./rmse.png', dpi=300, format=None, metadata=None,\n",
    "            bbox_inches=None, pad_inches=0.1\n",
    "            )\n",
    "plt.show()\n"
   ]
  },
  {
   "cell_type": "markdown",
   "metadata": {},
   "source": [
    "### Predicting Into the Future(July, August, September)"
   ]
  },
  {
   "cell_type": "code",
   "execution_count": null,
   "metadata": {},
   "outputs": [],
   "source": [
    "# 3months * 1550 = 4650\n",
    "# Predicting 3 months into the future\n",
    "jul_sep = model.predict(data_dic['test_seq'][-4650:])"
   ]
  },
  {
   "cell_type": "code",
   "execution_count": null,
   "metadata": {},
   "outputs": [],
   "source": [
    "jul_sep = num_pipe.inverse_transform(np.repeat(jul_sep, 3, axis=1))[\n",
    "    :, -1].reshape(-1, 1)"
   ]
  },
  {
   "cell_type": "code",
   "execution_count": null,
   "metadata": {},
   "outputs": [],
   "source": [
    "f_dates = np.concatenate([np.repeat(pd.to_datetime('2019-7-28'), 1550, axis=0), np.repeat(\n",
    "    pd.to_datetime('2019-8-28'), 1550, axis=0), np.repeat(pd.to_datetime('2019-9-28'), 1550, axis=0)], axis=0)\n",
    "f_site = df_clean[-4650:]['site_code'].values.tolist()\n",
    "f_product = df_clean[-4650:]['product_code'].values.tolist()"
   ]
  },
  {
   "cell_type": "code",
   "execution_count": null,
   "metadata": {},
   "outputs": [],
   "source": [
    "submit = pd.DataFrame({'date': f_dates.tolist(), 'site_code': f_site, 'product_code': f_product, 'prediction':jul_sep.reshape(1, -1)[0]})"
   ]
  },
  {
   "cell_type": "code",
   "execution_count": null,
   "metadata": {},
   "outputs": [],
   "source": [
    "def create_id(data: pd.DataFrame):\n",
    "    id = []\n",
    "\n",
    "    for i in range(len(data)):\n",
    "        id_ = str(data['date'][i].year) + ' X ' + \\\n",
    "            str(data['date'][i].month) + ' X ' + \\\n",
    "            data['site_code'][i] + ' X ' + data['product_code'][i]\n",
    "        id.append(id_)\n",
    "\n",
    "    return id\n"
   ]
  },
  {
   "cell_type": "code",
   "execution_count": null,
   "metadata": {},
   "outputs": [],
   "source": [
    "submit['ID'] = create_id(submit)"
   ]
  },
  {
   "cell_type": "code",
   "execution_count": null,
   "metadata": {},
   "outputs": [],
   "source": [
    "submit[['ID', 'prediction']].to_csv('./submit.csv', index=False)"
   ]
  }
 ],
 "metadata": {
  "interpreter": {
   "hash": "54018f95d1431b0044d846fffa9fab90bb5cf88cbf2291113fbb307c617e49cd"
  },
  "kernelspec": {
   "display_name": "Python 3.8.10 64-bit ('helth': venv)",
   "language": "python",
   "name": "python3"
  },
  "language_info": {
   "name": "python",
   "version": "3.8.10"
  },
  "orig_nbformat": 4
 },
 "nbformat": 4,
 "nbformat_minor": 2
}
